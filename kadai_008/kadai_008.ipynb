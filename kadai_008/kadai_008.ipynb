{
  "nbformat": 4,
  "nbformat_minor": 0,
  "metadata": {
    "colab": {
      "provenance": []
    },
    "kernelspec": {
      "name": "python3",
      "display_name": "Python 3"
    },
    "language_info": {
      "name": "python"
    }
  },
  "cells": [
    {
      "cell_type": "code",
      "execution_count": 86,
      "metadata": {
        "colab": {
          "base_uri": "https://localhost:8080/"
        },
        "id": "QnNPBUooGZGI",
        "outputId": "20c6d1da-8078-4e50-b5a7-13b2ac8f305f"
      },
      "outputs": [
        {
          "output_type": "stream",
          "name": "stdout",
          "text": [
            "値の確認：1\n",
            "1\n"
          ]
        }
      ],
      "source": [
        "#ランダムな整数を利用するために、randomモジュールをインポート\n",
        "import random\n",
        "\n",
        "#変数varに1~15までのランダムな整数を代入する\n",
        "var = random.randint(1, 15)\n",
        "print (\"値の確認：\" + str(var))\n",
        "\n",
        "#変数varが、3の倍数と5の倍数の両方に該当する場合は「FizzBuzz」を出力\n",
        "if var % 3 == 0 and var % 5 == 0:\n",
        "    print (\"FizzBuzz\")\n",
        "\n",
        "#変数varが、3の倍数に該当する場合は「Fizz」を出力\n",
        "elif var % 3 == 0:\n",
        "    print (\"Fizz\")\n",
        "\n",
        "#変数varが、5の倍数の場合は「Buzz」を出力\n",
        "elif var % 5 == 0:\n",
        "    print (\"Buzz\")\n",
        "\n",
        "#上記のどの場合にも該当しない場合は、変数varの値を出力\n",
        "else:\n",
        "    print (var)\n",
        "\n"
      ]
    }
  ]
}