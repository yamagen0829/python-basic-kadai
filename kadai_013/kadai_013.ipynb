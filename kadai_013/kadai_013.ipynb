{
  "nbformat": 4,
  "nbformat_minor": 0,
  "metadata": {
    "colab": {
      "provenance": []
    },
    "kernelspec": {
      "name": "python3",
      "display_name": "Python 3"
    },
    "language_info": {
      "name": "python"
    }
  },
  "cells": [
    {
      "cell_type": "code",
      "execution_count": 10,
      "metadata": {
        "colab": {
          "base_uri": "https://localhost:8080/"
        },
        "id": "oIpB0Fehx8nA",
        "outputId": "d7f6607b-b73e-49ca-eaad-b13954aa338c"
      },
      "outputs": [
        {
          "output_type": "stream",
          "name": "stdout",
          "text": [
            "121.0円\n"
          ]
        }
      ],
      "source": [
        "def calculate_total(price: int, consumption_tax_rate: int):\n",
        "  consumption_tax = price * (consumption_tax_rate / 100)\n",
        "  total = price + consumption_tax\n",
        "\n",
        "  return print(f\"{total}円\")\n",
        "\n",
        "calculate_total(110, 10)"
      ]
    }
  ]
}