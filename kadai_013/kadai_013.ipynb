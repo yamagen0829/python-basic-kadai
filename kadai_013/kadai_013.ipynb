{
  "nbformat": 4,
  "nbformat_minor": 0,
  "metadata": {
    "colab": {
      "provenance": []
    },
    "kernelspec": {
      "name": "python3",
      "display_name": "Python 3"
    },
    "language_info": {
      "name": "python"
    }
  },
  "cells": [
    {
      "cell_type": "code",
      "execution_count": 16,
      "metadata": {
        "colab": {
          "base_uri": "https://localhost:8080/"
        },
        "id": "oIpB0Fehx8nA",
        "outputId": "e9af9a68-429e-4055-fbc3-04665c620f74"
      },
      "outputs": [
        {
          "output_type": "stream",
          "name": "stdout",
          "text": [
            "121.0円\n"
          ]
        }
      ],
      "source": [
        "def calculate_total(price: int, consumption_tax_rate: int):\n",
        "  consumption_tax = price * (consumption_tax_rate / 100)\n",
        "  total = price + consumption_tax\n",
        "\n",
        "  return total\n",
        "\n",
        "total_price = calculate_total(110, 10)\n",
        "\n",
        "print(f\"{total_price}円\")\n"
      ]
    }
  ]
}