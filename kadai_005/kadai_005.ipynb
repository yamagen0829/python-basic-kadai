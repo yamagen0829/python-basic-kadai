{
  "nbformat": 4,
  "nbformat_minor": 0,
  "metadata": {
    "colab": {
      "provenance": []
    },
    "kernelspec": {
      "name": "python3",
      "display_name": "Python 3"
    },
    "language_info": {
      "name": "python"
    }
  },
  "cells": [
    {
      "cell_type": "code",
      "source": [
        "top_side = 10\n",
        "bottom_side = 20\n",
        "height = 5\n",
        "\n",
        "area = ((top_side + bottom_side) * height) / 2\n",
        "\n",
        "print(str(area) + \"cm²\")"
      ],
      "metadata": {
        "id": "LxQwFa4HQylS",
        "colab": {
          "base_uri": "https://localhost:8080/"
        },
        "outputId": "00ac16c5-50da-4fc9-d70e-9d8a83ecc87d"
      },
      "execution_count": 2,
      "outputs": [
        {
          "output_type": "stream",
          "name": "stdout",
          "text": [
            "75.0cm²\n"
          ]
        }
      ]
    }
  ]
}