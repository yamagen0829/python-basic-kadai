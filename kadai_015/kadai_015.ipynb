{
  "nbformat": 4,
  "nbformat_minor": 0,
  "metadata": {
    "colab": {
      "provenance": []
    },
    "kernelspec": {
      "name": "python3",
      "display_name": "Python 3"
    },
    "language_info": {
      "name": "python"
    }
  },
  "cells": [
    {
      "cell_type": "code",
      "execution_count": 10,
      "metadata": {
        "colab": {
          "base_uri": "https://localhost:8080/"
        },
        "id": "kopUYmX61Sqd",
        "outputId": "657121d3-a2b4-497e-b339-1736c0ff506a"
      },
      "outputs": [
        {
          "output_type": "stream",
          "name": "stdout",
          "text": [
            "侍太郎\n",
            "36\n"
          ]
        }
      ],
      "source": [
        "class Human:\n",
        "  def __init__(self):\n",
        "    #属性を定義する\n",
        "    self.name = \"\"\n",
        "    self.age = \"\"\n",
        "\n",
        "  #メソッドを定義する\n",
        "  def set_human(self, name, age):\n",
        "    self.name = name\n",
        "    self.age = age\n",
        "\n",
        "  def printinfo(self):\n",
        "    print(self.name)\n",
        "    print(self.age)\n",
        "\n",
        "#インスタンス化する\n",
        "human = Human()\n",
        "\n",
        "#メソッドにアクセスして実行する\n",
        "human.set_human(\"侍太郎\", 36)\n",
        "human.printinfo()"
      ]
    }
  ]
}