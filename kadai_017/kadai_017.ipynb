{
  "nbformat": 4,
  "nbformat_minor": 0,
  "metadata": {
    "colab": {
      "provenance": []
    },
    "kernelspec": {
      "name": "python3",
      "display_name": "Python 3"
    },
    "language_info": {
      "name": "python"
    }
  },
  "cells": [
    {
      "cell_type": "code",
      "execution_count": 12,
      "metadata": {
        "colab": {
          "base_uri": "https://localhost:8080/"
        },
        "id": "hFcQ5BZUxFoR",
        "outputId": "2b04a2c4-55e9-467a-8a9a-22a13250b77a"
      },
      "outputs": [
        {
          "output_type": "stream",
          "name": "stdout",
          "text": [
            "侍太郎は大人です。\n",
            "侍一郎は大人です。\n",
            "侍二郎は大人です。\n",
            "侍三郎は大人です。\n",
            "侍四郎は大人です。\n"
          ]
        }
      ],
      "source": [
        "class Human:\n",
        "   def __init__(self, name, age):\n",
        "     self.name = name\n",
        "     self.age = age\n",
        "\n",
        "   def check_adult(self):\n",
        "     if self.age >= 20:\n",
        "       print(f\"{self.name}は大人です。\")\n",
        "     else:\n",
        "       print(f\"{self.name}大人ではない\")\n",
        "\n",
        "humans = [\n",
        "    Human(\"侍太郎\", 36),\n",
        "    Human(\"侍一郎\", 33),\n",
        "    Human(\"侍二郎\", 29),\n",
        "    Human(\"侍三郎\", 25),\n",
        "    Human(\"侍四郎\", 22)\n",
        "]\n",
        "\n",
        "for human in humans:\n",
        "    human.check_adult()"
      ]
    }
  ]
}